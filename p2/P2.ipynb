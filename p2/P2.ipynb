{
 "cells": [
  {
   "metadata": {},
   "cell_type": "markdown",
   "source": "## Convolucion Total\n",
   "id": "f5a563bfa4ac2c5c"
  },
  {
   "metadata": {},
   "cell_type": "code",
   "outputs": [],
   "execution_count": null,
   "source": [
    "import numpy as np\n",
    "# Define the delta function\n",
    "def delta(n):\n",
    "    return 1 if n == 0 else 0\n",
    "\n",
    "# Define the function u(n) = 3delta(n) + 13delta(n-1)\n",
    "def u(n, a, b):\n",
    "    return a * delta(n) + b * delta(n - 1)\n",
    "f\n",
    "# The fixed vector f(n) = [0, 1, 2, 3, 4, 5]\n",
    "f = np.array([0, 1, 2, 3, 4, 5])\n",
    "\n",
    "# Length of the sequence\n",
    "n = len(f)\n",
    "\n",
    "# Convolution operation for u(n) * f(n)\n",
    "conv_result = np.zeros(n)\n",
    "\n",
    "# Display convolution iteration by iteration for u(n) and f(n)\n",
    "for i in range(n):\n",
    "    summation = 0\n",
    "    print(f\"Iteration {i + 1}:\")\n",
    "    for k in range(n):\n",
    "        u_value = u(i - k, 0, 13)\n",
    "        product = u_value * f[k]\n",
    "        summation += product\n",
    "        print(f\"u({i}-{k}) = {u_value}, f[{k}] = {f[k]}, product = {product}\")\n",
    "    conv_result[i] = summation\n",
    "    print(f\"Convolution result at index {i}: {conv_result[i]}\\n\")\n",
    "\n",
    "conv_result"
   ],
   "id": "5260caadd32bf067"
  },
  {
   "metadata": {},
   "cell_type": "markdown",
   "source": "## Convolucion A\n",
   "id": "f4b8097f51d7131d"
  },
  {
   "metadata": {},
   "cell_type": "code",
   "outputs": [],
   "execution_count": null,
   "source": [
    "import numpy as np\n",
    "# Define the delta function\n",
    "def delta(n):\n",
    "    return 1 if n == 0 else 0\n",
    "\n",
    "# Define the function u(n) = 3delta(n) + 13delta(n-1)\n",
    "def u(n, a, b):\n",
    "    return a * delta(n) + b * delta(n - 1)\n",
    "\n",
    "# The fixed vector f(n) = [0, 1, 2, 3, 4, 5]\n",
    "f = np.array([0, 1, 2, 3, 4, 5])\n",
    "\n",
    "# Length of the sequence\n",
    "n = len(f)\n",
    "\n",
    "# Convolution operation for u(n) * f(n)\n",
    "conv_result = np.zeros(n)\n",
    "\n",
    "# Display convolution iteration by iteration for u(n) and f(n)\n",
    "for i in range(n):\n",
    "    summation = 0\n",
    "    print(f\"Iteration {i + 1}:\")\n",
    "    for k in range(n):\n",
    "        u_value = u(i - k, 3, 0)\n",
    "        product = u_value * f[k]\n",
    "        summation += product\n",
    "        print(f\"u({i}-{k}) = {u_value}, f[{k}] = {f[k]}, product = {product}\")\n",
    "    conv_result[i] = summation\n",
    "    print(f\"Convolution result at index {i}: {conv_result[i]}\\n\")\n",
    "\n",
    "conv_result"
   ],
   "id": "1e70d602f92eecdd"
  },
  {
   "metadata": {},
   "cell_type": "markdown",
   "source": "## Convolucion B\n",
   "id": "1261d9a6a2269beb"
  },
  {
   "metadata": {},
   "cell_type": "code",
   "outputs": [],
   "execution_count": null,
   "source": [
    "import numpy as np\n",
    "# Define the delta function\n",
    "def delta(n):\n",
    "    return 1 if n == 0 else 0\n",
    "\n",
    "# Define the function u(n) = 3delta(n) + 13delta(n-1)\n",
    "def u(n, a, b):\n",
    "    return a * delta(n) + b * delta(n - 1)\n",
    "\n",
    "# The fixed vector f(n) = [0, 1, 2, 3, 4, 5]\n",
    "f = np.array([0, 1, 2, 3, 4, 5])\n",
    "\n",
    "# Length of the sequence\n",
    "n = len(f)\n",
    "\n",
    "# Convolution operation for u(n) * f(n)\n",
    "conv_result = np.zeros(n)\n",
    "\n",
    "# Display convolution iteration by iteration for u(n) and f(n)\n",
    "for i in range(n):\n",
    "    summation = 0\n",
    "    print(f\"Iteration {i + 1}:\")\n",
    "    for k in range(n):\n",
    "        u_value = u(i - k, 0, 13)\n",
    "        product = u_value * f[k]\n",
    "        summation += product\n",
    "        print(f\"u({i}-{k}) = {u_value}, f[{k}] = {f[k]}, product = {product}\")\n",
    "    conv_result[i] = summation\n",
    "    print(f\"Convolution result at index {i}: {conv_result[i]}\\n\")\n",
    "\n",
    "conv_result"
   ],
   "id": "d7e8a42625184cb7"
  },
  {
   "metadata": {},
   "cell_type": "markdown",
   "source": "## Asociatividad",
   "id": "9d43710be2196e72"
  },
  {
   "metadata": {
    "ExecuteTime": {
     "end_time": "2024-10-03T04:23:29.103878Z",
     "start_time": "2024-10-03T04:23:29.090901Z"
    }
   },
   "cell_type": "code",
   "source": [
    "import numpy as np\n",
    "\n",
    "def associativity(N):\n",
    "    \"\"\"Creates N pairs of random-length vectors and demonstrates associativity of convolution.\"\"\"\n",
    "    for _ in range(N):\n",
    "        # Generate three random vectors\n",
    "        f = np.random.randint(1, 20, 4)\n",
    "        g = np.random.randint(1, 20, 4)\n",
    "        h = np.random.randint(1, 20, 4)\n",
    "\n",
    "        # Convolve (f * g) * h\n",
    "        left_side = np.convolve(np.convolve(f, g), h)\n",
    "\n",
    "        # Convolve f * (g * h)\n",
    "        right_side = np.convolve(f, np.convolve(g, h))\n",
    "\n",
    "        # Display results\n",
    "        print(\"Vector f:\", f)\n",
    "        print(\"Vector g:\", g)\n",
    "        print(\"Vector h:\", h)\n",
    "        print(\" ((f * g) * h):\", left_side)\n",
    "        print(\" (f * (g * h)):\", right_side)\n",
    "        print(\"Are they equal?\", np.array_equal(left_side, right_side))\n",
    "        print(\"-\" * 50)\n",
    "\n",
    "associativity(3)\n"
   ],
   "id": "3c05f3c65ca3c587",
   "outputs": [
    {
     "name": "stdout",
     "output_type": "stream",
     "text": [
      "Vector f: [2 5 4 5]\n",
      "Vector g: [ 3  7 19 19]\n",
      "Vector h: [13 13 13  6]\n",
      " ((f * g) * h): [  78  455 1560 3806 6245 7699 7192 4694 2261  570]\n",
      " (f * (g * h)): [  78  455 1560 3806 6245 7699 7192 4694 2261  570]\n",
      "Are they equal? True\n",
      "--------------------------------------------------\n",
      "Vector f: [13  3 17 14]\n",
      "Vector g: [16 14 10  7]\n",
      "Vector h: [14  2 11  9]\n",
      " ((f * g) * h): [ 2912  3636  8964 13452 13538 14809 11394  6528  3409   882]\n",
      " (f * (g * h)): [ 2912  3636  8964 13452 13538 14809 11394  6528  3409   882]\n",
      "Are they equal? True\n",
      "--------------------------------------------------\n",
      "Vector f: [ 9 17  2  8]\n",
      "Vector g: [ 5 11  2  7]\n",
      "Vector h: [ 1 12  9  8]\n",
      " ((f * g) * h): [  45  724 2828 4755 5526 5713 3587 2630  744  448]\n",
      " (f * (g * h)): [  45  724 2828 4755 5526 5713 3587 2630  744  448]\n",
      "Are they equal? True\n",
      "--------------------------------------------------\n"
     ]
    }
   ],
   "execution_count": 10
  },
  {
   "metadata": {
    "ExecuteTime": {
     "end_time": "2024-10-03T04:23:35.948136Z",
     "start_time": "2024-10-03T04:23:35.941334Z"
    }
   },
   "cell_type": "code",
   "source": "associativity(3)\n",
   "id": "2eae301faaf3c273",
   "outputs": [
    {
     "name": "stdout",
     "output_type": "stream",
     "text": [
      "Vector f: [ 8 14 19 18]\n",
      "Vector g: [11 11  3 18]\n",
      "Vector h: [10  8 12 15]\n",
      " ((f * g) * h): [  880  3124  6862 13250 18088 20937 21387 14949  9828  4860]\n",
      " (f * (g * h)): [  880  3124  6862 13250 18088 20937 21387 14949  9828  4860]\n",
      "Are they equal? True\n",
      "--------------------------------------------------\n",
      "Vector f: [ 3 19 17  2]\n",
      "Vector g: [19 13  4 18]\n",
      "Vector h: [14  6  8  3]\n",
      " ((f * g) * h): [  798  5942 11004 12309 14294 11870  7043  4036  1230   108]\n",
      " (f * (g * h)): [  798  5942 11004 12309 14294 11870  7043  4036  1230   108]\n",
      "Are they equal? True\n",
      "--------------------------------------------------\n",
      "Vector f: [7 7 9 2]\n",
      "Vector g: [ 1  5  9 19]\n",
      "Vector h: [ 6 18 10 17]\n",
      " ((f * g) * h): [   42   378  1468  3923  7502  9415 10001  6382  3593   646]\n",
      " (f * (g * h)): [   42   378  1468  3923  7502  9415 10001  6382  3593   646]\n",
      "Are they equal? True\n",
      "--------------------------------------------------\n"
     ]
    }
   ],
   "execution_count": 11
  },
  {
   "metadata": {},
   "cell_type": "code",
   "outputs": [],
   "execution_count": null,
   "source": "",
   "id": "571f2d7bd1d0f65"
  }
 ],
 "metadata": {
  "kernelspec": {
   "display_name": "Python 3",
   "language": "python",
   "name": "python3"
  },
  "language_info": {
   "codemirror_mode": {
    "name": "ipython",
    "version": 2
   },
   "file_extension": ".py",
   "mimetype": "text/x-python",
   "name": "python",
   "nbconvert_exporter": "python",
   "pygments_lexer": "ipython2",
   "version": "2.7.6"
  }
 },
 "nbformat": 4,
 "nbformat_minor": 5
}
